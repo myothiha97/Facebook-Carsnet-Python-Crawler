{
 "cells": [
  {
   "cell_type": "code",
   "execution_count": 1,
   "metadata": {},
   "outputs": [],
   "source": [
    "import re"
   ]
  },
  {
   "cell_type": "code",
   "execution_count": 3,
   "metadata": {},
   "outputs": [],
   "source": [
    "make_reg      = r'acura|audi|bentley|bmw|buick|cadillac|chevrolet|chrysler|citeron|dodge|daihatsu|fiat|ford|gmc|honda|hyundai|infiniti|jaguar|jeep|kia|land rover|lexus|lincoln|maserati|mazada|mazda|mercedes|mini|mitsubishi|mitsubshi|nissan|peugeot|range rover|renault|subaru|suzuki|tesla|toyota|vauxhall|volkswagen|volvo|hillix|isuzu'\n",
    "makes = make_reg.split(\"|\")"
   ]
  },
  {
   "cell_type": "code",
   "execution_count": 5,
   "metadata": {},
   "outputs": [],
   "source": [
    "makes.sort()"
   ]
  },
  {
   "cell_type": "code",
   "execution_count": 6,
   "metadata": {},
   "outputs": [
    {
     "data": {
      "text/plain": [
       "['acura',\n",
       " 'audi',\n",
       " 'bentley',\n",
       " 'bmw',\n",
       " 'buick',\n",
       " 'cadillac',\n",
       " 'chevrolet',\n",
       " 'chrysler',\n",
       " 'citeron',\n",
       " 'daihatsu',\n",
       " 'dodge',\n",
       " 'fiat',\n",
       " 'ford',\n",
       " 'gmc',\n",
       " 'hillix',\n",
       " 'honda',\n",
       " 'hyundai',\n",
       " 'infiniti',\n",
       " 'isuzu',\n",
       " 'jaguar',\n",
       " 'jeep',\n",
       " 'kia',\n",
       " 'land rover',\n",
       " 'lexus',\n",
       " 'lincoln',\n",
       " 'maserati',\n",
       " 'mazada',\n",
       " 'mazda',\n",
       " 'mercedes',\n",
       " 'mini',\n",
       " 'mitsubishi',\n",
       " 'mitsubshi',\n",
       " 'nissan',\n",
       " 'peugeot',\n",
       " 'range rover',\n",
       " 'renault',\n",
       " 'subaru',\n",
       " 'suzuki',\n",
       " 'tesla',\n",
       " 'toyota',\n",
       " 'vauxhall',\n",
       " 'volkswagen',\n",
       " 'volvo']"
      ]
     },
     "execution_count": 6,
     "metadata": {},
     "output_type": "execute_result"
    }
   ],
   "source": [
    "makes"
   ]
  },
  {
   "cell_type": "code",
   "execution_count": 24,
   "metadata": {},
   "outputs": [],
   "source": [
    "names = \"\"\"AUDI\n",
    "BENTLEY\n",
    "BMW\n",
    "CHEVROLET\n",
    "DAIHATSU\n",
    "Ferrari\n",
    "FORD\n",
    "HONDA\n",
    "HYUNDAI\n",
    "KIA\n",
    "LEXUS\n",
    "MAZDA\n",
    "Mercedes-Benz\n",
    "MINI\n",
    "MITSUBISHI\n",
    "NISSAN\n",
    "PEUGEOT\n",
    "SUZUKI\n",
    "TOYOTA\n",
    "Toyota Mingalar Servicing\n",
    "VOLKSWAGEN\n",
    "VOLVO\"\"\""
   ]
  },
  {
   "cell_type": "code",
   "execution_count": 25,
   "metadata": {},
   "outputs": [],
   "source": [
    "names = names.lower().split(\"\\n\")"
   ]
  },
  {
   "cell_type": "code",
   "execution_count": 26,
   "metadata": {},
   "outputs": [
    {
     "data": {
      "text/plain": [
       "['audi',\n",
       " 'bentley',\n",
       " 'bmw',\n",
       " 'chevrolet',\n",
       " 'daihatsu',\n",
       " 'ferrari',\n",
       " 'ford',\n",
       " 'honda',\n",
       " 'hyundai',\n",
       " 'kia',\n",
       " 'lexus',\n",
       " 'mazda',\n",
       " 'mercedes-benz',\n",
       " 'mini',\n",
       " 'mitsubishi',\n",
       " 'nissan',\n",
       " 'peugeot',\n",
       " 'suzuki',\n",
       " 'toyota',\n",
       " 'toyota mingalar servicing',\n",
       " 'volkswagen',\n",
       " 'volvo']"
      ]
     },
     "execution_count": 26,
     "metadata": {},
     "output_type": "execute_result"
    }
   ],
   "source": [
    "names"
   ]
  },
  {
   "cell_type": "code",
   "execution_count": 27,
   "metadata": {},
   "outputs": [],
   "source": [
    "names.sort()"
   ]
  },
  {
   "cell_type": "code",
   "execution_count": 28,
   "metadata": {},
   "outputs": [
    {
     "data": {
      "text/plain": [
       "['audi',\n",
       " 'bentley',\n",
       " 'bmw',\n",
       " 'chevrolet',\n",
       " 'daihatsu',\n",
       " 'ferrari',\n",
       " 'ford',\n",
       " 'honda',\n",
       " 'hyundai',\n",
       " 'kia',\n",
       " 'lexus',\n",
       " 'mazda',\n",
       " 'mercedes-benz',\n",
       " 'mini',\n",
       " 'mitsubishi',\n",
       " 'nissan',\n",
       " 'peugeot',\n",
       " 'suzuki',\n",
       " 'toyota',\n",
       " 'toyota mingalar servicing',\n",
       " 'volkswagen',\n",
       " 'volvo']"
      ]
     },
     "execution_count": 28,
     "metadata": {},
     "output_type": "execute_result"
    }
   ],
   "source": [
    "names"
   ]
  },
  {
   "cell_type": "code",
   "execution_count": 37,
   "metadata": {},
   "outputs": [
    {
     "data": {
      "text/plain": [
       "False"
      ]
     },
     "execution_count": 37,
     "metadata": {},
     "output_type": "execute_result"
    }
   ],
   "source": [
    "names in makes"
   ]
  },
  {
   "cell_type": "code",
   "execution_count": 33,
   "metadata": {},
   "outputs": [
    {
     "name": "stdout",
     "output_type": "stream",
     "text": [
      "['audi', 'bentley', 'bmw', 'chevrolet', 'daihatsu', 'ferrari', 'ford', 'honda', 'hyundai', 'kia', 'lexus', 'mazda', 'mercedes-benz', 'mini', 'mitsubishi', 'nissan', 'peugeot', 'suzuki', 'toyota', 'toyota mingalar servicing', 'volkswagen', 'volvo']\n",
      "['acura', 'audi', 'bentley', 'bmw', 'buick', 'cadillac', 'chevrolet', 'chrysler', 'citeron', 'daihatsu', 'dodge', 'fiat', 'ford', 'gmc', 'hillix', 'honda', 'hyundai', 'infiniti', 'isuzu', 'jaguar', 'jeep', 'kia', 'land rover', 'lexus', 'lincoln', 'maserati', 'mazada', 'mazda', 'mercedes', 'mini', 'mitsubishi', 'mitsubshi', 'nissan', 'peugeot', 'range rover', 'renault', 'subaru', 'suzuki', 'tesla', 'toyota', 'vauxhall', 'volkswagen', 'volvo']\n"
     ]
    }
   ],
   "source": [
    "print(names)\n",
    "print(makes)\n",
    "    "
   ]
  },
  {
   "cell_type": "code",
   "execution_count": 34,
   "metadata": {},
   "outputs": [],
   "source": [
    "req = []\n",
    "for i in names:\n",
    "    if i not in makes:\n",
    "        req.append(i)"
   ]
  },
  {
   "cell_type": "code",
   "execution_count": 35,
   "metadata": {},
   "outputs": [
    {
     "data": {
      "text/plain": [
       "['ferrari', 'mercedes-benz', 'toyota mingalar servicing']"
      ]
     },
     "execution_count": 35,
     "metadata": {},
     "output_type": "execute_result"
    }
   ],
   "source": [
    "req"
   ]
  },
  {
   "cell_type": "code",
   "execution_count": 36,
   "metadata": {},
   "outputs": [
    {
     "data": {
      "text/plain": [
       "39"
      ]
     },
     "execution_count": 36,
     "metadata": {},
     "output_type": "execute_result"
    }
   ],
   "source": [
    "makes.index(\"toyota\")"
   ]
  },
  {
   "cell_type": "code",
   "execution_count": null,
   "metadata": {},
   "outputs": [],
   "source": []
  }
 ],
 "metadata": {
  "kernelspec": {
   "display_name": "Python 3",
   "language": "python",
   "name": "python3"
  },
  "language_info": {
   "codemirror_mode": {
    "name": "ipython",
    "version": 3
   },
   "file_extension": ".py",
   "mimetype": "text/x-python",
   "name": "python",
   "nbconvert_exporter": "python",
   "pygments_lexer": "ipython3",
   "version": "3.6.9"
  }
 },
 "nbformat": 4,
 "nbformat_minor": 2
}
